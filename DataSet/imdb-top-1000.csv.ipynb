{
  "cells": [
    {
      "cell_type": "code",
      "execution_count": null,
      "metadata": {
        "id": "V-NHpZTWOHT2"
      },
      "outputs": [],
      "source": [
        "import pandas as pd\n",
        "import numpy as np"
      ]
    },
    {
      "cell_type": "code",
      "execution_count": null,
      "metadata": {
        "id": "cchNFTvyOR4r"
      },
      "outputs": [],
      "source": [
        "movies = pd.read_csv('imdb-top-1000.csv')"
      ]
    },
    {
      "cell_type": "code",
      "execution_count": null,
      "metadata": {
        "id": "ymlVO7nFXrlE"
      },
      "outputs": [],
      "source": [
        "movies.head(3)"
      ]
    },
    {
      "cell_type": "code",
      "execution_count": null,
      "metadata": {
        "id": "g4KWKAX2Xtj6"
      },
      "outputs": [],
      "source": [
        "genres = movies.groupby('Genre')"
      ]
    },
    {
      "cell_type": "code",
      "execution_count": null,
      "metadata": {
        "id": "BvBQiosE2Eka"
      },
      "outputs": [],
      "source": [
        "# Applying builtin aggregation fuctions on groupby objects\n",
        "genres.std()"
      ]
    },
    {
      "cell_type": "code",
      "execution_count": null,
      "metadata": {
        "id": "AVvVAtWC2YsU"
      },
      "outputs": [],
      "source": [
        "# find the top 3 genres by total earning\n",
        "movies.groupby(\"Genre\")[\"Gross\"].sum().sort_values(ascending=False).head(3)"
      ]
    },
    {
      "cell_type": "code",
      "execution_count": null,
      "metadata": {
        "id": "5pX5rxoQBNbo"
      },
      "outputs": [],
      "source": [
        "movies.groupby('Genre')['Gross'].sum().sort_values(ascending=False).head(3)"
      ]
    },
    {
      "cell_type": "code",
      "execution_count": null,
      "metadata": {
        "id": "wHd-g4R22fQC"
      },
      "outputs": [],
      "source": [
        "# find the genre with highest avg IMDB rating\n",
        "movies.groupby('Genre')[\"IMDB_Rating\"].mean().sort_values(ascending= False).head(1)"
      ]
    },
    {
      "cell_type": "code",
      "execution_count": null,
      "metadata": {
        "id": "1BmI8cdG3DOA"
      },
      "outputs": [],
      "source": [
        "# find director with most popularity\n",
        "movies.groupby('Genre')[\"No_of_Votes\"].sum().sort_values(ascending= False).head(1)"
      ]
    },
    {
      "cell_type": "code",
      "execution_count": null,
      "metadata": {
        "id": "MAgvS8b33TTo"
      },
      "outputs": [],
      "source": [
        "# find the highest rated movie of each genre\n",
        "# movies.groupby('Genre')['IMDB_Rating'].max()"
      ]
    },
    {
      "cell_type": "code",
      "execution_count": null,
      "metadata": {
        "id": "BKzQdPDg3YQ-"
      },
      "outputs": [],
      "source": [
        "# find number of movies done by each actor\n",
        "# movies['Star1'].value_counts()\n",
        "\n",
        "movies.groupby('Star1')['Series_Title'].count().sort_values(ascending=False)"
      ]
    },
    {
      "cell_type": "code",
      "execution_count": null,
      "metadata": {
        "id": "3etEsUU63mOR"
      },
      "outputs": [],
      "source": [
        "# GroupBy Attributes and Methods\n",
        "# find total number of groups -> len\n",
        "# find items in each group -> size\n",
        "# first()/last() -> nth item\n",
        "# get_group -> vs filtering\n",
        "# groups\n",
        "# describe\n",
        "# sample\n",
        "# nunique"
      ]
    },
    {
      "cell_type": "code",
      "execution_count": null,
      "metadata": {
        "id": "MVQqy234O-Xd"
      },
      "outputs": [],
      "source": [
        "len(movies.groupby('Genre'))"
      ]
    },
    {
      "cell_type": "code",
      "execution_count": null,
      "metadata": {
        "id": "9-iQ83awO-kK"
      },
      "outputs": [],
      "source": [
        "movies['Genre'].nunique()"
      ]
    },
    {
      "cell_type": "code",
      "execution_count": null,
      "metadata": {
        "id": "TCRqmIrMO-tc"
      },
      "outputs": [],
      "source": [
        "movies.groupby('Genre').size()"
      ]
    },
    {
      "cell_type": "code",
      "execution_count": null,
      "metadata": {
        "id": "EzamsUNXFJAn"
      },
      "outputs": [],
      "source": [
        "genres = movies.groupby('Genre')\n",
        "# genres.first()\n",
        "# genres.last()\n",
        "genres.nth(6)"
      ]
    },
    {
      "cell_type": "code",
      "execution_count": null,
      "metadata": {
        "id": "T68QAdkUE8rm"
      },
      "outputs": [],
      "source": [
        "movies['Genre'].value_counts()"
      ]
    },
    {
      "cell_type": "code",
      "execution_count": null,
      "metadata": {
        "id": "I58tynw5Fv0P"
      },
      "outputs": [],
      "source": [
        "genres.get_group('Fantasy')\n",
        "\n",
        "movies[movies['Genre'] == 'Fantasy']"
      ]
    },
    {
      "cell_type": "code",
      "execution_count": null,
      "metadata": {
        "id": "0Y2CaRX9GSbj"
      },
      "outputs": [],
      "source": [
        "genres.groups"
      ]
    },
    {
      "cell_type": "code",
      "execution_count": null,
      "metadata": {
        "id": "g3Sy5MPuGSq4"
      },
      "outputs": [],
      "source": [
        "genres.describe()"
      ]
    },
    {
      "cell_type": "code",
      "execution_count": null,
      "metadata": {
        "id": "AiLaylwMGTg2"
      },
      "outputs": [],
      "source": [
        "genres.sample(2,replace=True)"
      ]
    },
    {
      "cell_type": "code",
      "execution_count": null,
      "metadata": {
        "id": "ko_cRYChGTnv"
      },
      "outputs": [],
      "source": [
        "genres.nunique()"
      ]
    },
    {
      "cell_type": "code",
      "execution_count": null,
      "metadata": {
        "id": "_NNmeC7kALcE"
      },
      "outputs": [],
      "source": [
        "# agg method\n",
        "# passing dict\n",
        "genres.agg(\n",
        "    {\n",
        "        'Runtime':'mean',\n",
        "        'IMDB_Rating':'mean',\n",
        "        'No_of_Votes':'sum',\n",
        "        'Gross':'sum',\n",
        "        'Metascore':'min'\n",
        "    }\n",
        ")"
      ]
    },
    {
      "cell_type": "code",
      "execution_count": null,
      "metadata": {
        "id": "59cdCHTJYWiy"
      },
      "outputs": [],
      "source": [
        "# passing list\n",
        "genres.agg(['min','max','mean','sum'])"
      ]
    },
    {
      "cell_type": "code",
      "execution_count": null,
      "metadata": {
        "id": "K6XoU_QWY1KV"
      },
      "outputs": [],
      "source": [
        "# Adding both the syntax\n",
        "genres.agg(\n",
        "    {\n",
        "        'Runtime':['min','mean'],\n",
        "        'IMDB_Rating':'mean',\n",
        "        'No_of_Votes':['sum','max'],\n",
        "        'Gross':'sum',\n",
        "        'Metascore':'min'\n",
        "    }\n",
        ")"
      ]
    },
    {
      "cell_type": "code",
      "execution_count": null,
      "metadata": {
        "id": "2o9u9jCjAN_z"
      },
      "outputs": [],
      "source": [
        "# looping on groups\n",
        "df = pd.DataFrame(columns=movies.columns)\n",
        "for group,data in genres:\n",
        "  df = df.append(data[data['IMDB_Rating'] == data['IMDB_Rating'].max()])\n",
        "\n",
        "df"
      ]
    },
    {
      "cell_type": "code",
      "execution_count": null,
      "metadata": {
        "id": "faavpAILU8eO"
      },
      "outputs": [],
      "source": [
        "# split (apply) combine\n",
        "# apply -> builtin function\n",
        "\n",
        "genres.apply(min)"
      ]
    },
    {
      "cell_type": "code",
      "execution_count": null,
      "metadata": {
        "id": "uGZVnFR2lrtW"
      },
      "outputs": [],
      "source": [
        "# find number of movies starting with A for each group\n",
        "\n",
        "def foo(group):\n",
        "  return group['Series_Title'].str.startswith('A').sum()\n"
      ]
    },
    {
      "cell_type": "code",
      "execution_count": null,
      "metadata": {
        "id": "DtPJElmkNWhO"
      },
      "outputs": [],
      "source": [
        "genres.apply(foo)"
      ]
    },
    {
      "cell_type": "code",
      "execution_count": null,
      "metadata": {
        "id": "i0FOAkICj8UF"
      },
      "outputs": [],
      "source": [
        "# find ranking of each movie in the group according to IMDB score\n",
        "\n",
        "def rank_movie(group):\n",
        "  group['genre_rank'] = group['IMDB_Rating'].rank(ascending=False)\n",
        "  return group"
      ]
    },
    {
      "cell_type": "code",
      "execution_count": null,
      "metadata": {
        "id": "nc1PVs2vNVZt"
      },
      "outputs": [],
      "source": [
        "genres.apply(rank_movie)"
      ]
    },
    {
      "cell_type": "code",
      "execution_count": null,
      "metadata": {
        "id": "RJAv1PCaepT6"
      },
      "outputs": [],
      "source": [
        "# find normalized IMDB rating group wise\n",
        "\n",
        "def normal(group):\n",
        "  group['norm_rating'] = (group['IMDB_Rating'] - group['IMDB_Rating'].min())/(group['IMDB_Rating'].max() - group['IMDB_Rating'].min())\n",
        "  return group\n",
        "\n",
        "genres.apply(normal)"
      ]
    },
    {
      "cell_type": "code",
      "execution_count": null,
      "metadata": {
        "id": "Jeco628BAP2H"
      },
      "outputs": [],
      "source": [
        "# groupby on multiple cols\n",
        "duo = movies.groupby(['Director','Star1'])\n",
        "duo\n",
        "# size\n",
        "duo.size()\n",
        "# get_group\n",
        "duo.get_group(('Aamir Khan','Amole Gupte'))"
      ]
    },
    {
      "cell_type": "code",
      "execution_count": null,
      "metadata": {
        "id": "w9B-IKRz6Khy"
      },
      "outputs": [],
      "source": [
        "# find the most earning actor->director combo\n",
        "duo['Gross'].sum().sort_values(ascending=False).head(1)"
      ]
    },
    {
      "cell_type": "code",
      "execution_count": null,
      "metadata": {
        "id": "FrpEvqNznRkw"
      },
      "outputs": [],
      "source": [
        "# find the best(in-terms of metascore(avg)) actor->genre combo\n",
        "movies.groupby(['Star1','Genre'])['Metascore'].mean().reset_index().sort_values('Metascore',ascending=False).head(1)"
      ]
    },
    {
      "cell_type": "code",
      "execution_count": null,
      "metadata": {
        "id": "1GA5Hv4-573n"
      },
      "outputs": [],
      "source": [
        "# agg on multiple groupby\n",
        "duo.agg(['min','max','mean'])"
      ]
    },
    {
      "cell_type": "markdown",
      "metadata": {
        "id": "9fROVRdo6Mqe"
      },
      "source": [
        "### Excercise"
      ]
    },
    {
      "cell_type": "code",
      "execution_count": null,
      "metadata": {
        "id": "jYqL-7utvIpu"
      },
      "outputs": [],
      "source": [
        "ipl = pd.read_csv('/content/deliveries.csv')\n",
        "ipl.head()"
      ]
    },
    {
      "cell_type": "code",
      "execution_count": null,
      "metadata": {
        "id": "E1YGX66eTt70"
      },
      "outputs": [],
      "source": [
        "ipl.shape"
      ]
    },
    {
      "cell_type": "code",
      "execution_count": null,
      "metadata": {
        "id": "cvckOU0G6OKV"
      },
      "outputs": [],
      "source": [
        "# find the top 10 batsman in terms of runs\n",
        "ipl.groupby('batsman')['batsman_runs'].sum().sort_values(ascending=False).head(10)"
      ]
    },
    {
      "cell_type": "code",
      "execution_count": null,
      "metadata": {
        "id": "EA9dpd2P6pch"
      },
      "outputs": [],
      "source": [
        "# find the batsman with max no of sixes\n",
        "six = ipl[ipl['batsman_runs'] == 6]\n",
        "\n",
        "six.groupby('batsman')['batsman'].count().sort_values(ascending=False).head(1).index[0]"
      ]
    },
    {
      "cell_type": "code",
      "execution_count": null,
      "metadata": {
        "id": "PqzGGD_66suJ"
      },
      "outputs": [],
      "source": [
        "# find batsman with most number of 4's and 6's in last 5 overs\n",
        "temp_df = ipl[ipl['over'] > 15]\n",
        "temp_df = temp_df[(temp_df['batsman_runs'] == 4) | (temp_df['batsman_runs'] == 6)]\n",
        "temp_df.groupby('batsman')['batsman'].count().sort_values(ascending=False).head(1).index[0]"
      ]
    },
    {
      "cell_type": "code",
      "execution_count": null,
      "metadata": {
        "id": "NWatDflN6xrl"
      },
      "outputs": [],
      "source": [
        "# find V Kohli's record against all teams\n",
        "temp_df = ipl[ipl['batsman'] == 'V Kohli']\n",
        "\n",
        "temp_df.groupby('bowling_team')['batsman_runs'].sum().reset_index()"
      ]
    },
    {
      "cell_type": "code",
      "execution_count": null,
      "metadata": {
        "id": "7XSqD8uL7yRc"
      },
      "outputs": [],
      "source": [
        "# Create a function that can return the highest score of any batsman\n",
        "temp_df = ipl[ipl['batsman'] == 'V Kohli']\n",
        "temp_df.groupby('match_id')['batsman_runs'].sum().sort_values(ascending=False).head(1).values[0]"
      ]
    },
    {
      "cell_type": "code",
      "execution_count": null,
      "metadata": {
        "id": "TpaccY6bXgg_"
      },
      "outputs": [],
      "source": [
        "def highest(batsman):\n",
        "  temp_df = ipl[ipl['batsman'] == batsman]\n",
        "  return temp_df.groupby('match_id')['batsman_runs'].sum().sort_values(ascending=False).head(1).values[0]\n"
      ]
    },
    {
      "cell_type": "code",
      "execution_count": null,
      "metadata": {
        "id": "Ws2Vo9wEYERh"
      },
      "outputs": [],
      "source": [
        "highest('DA Warner')"
      ]
    },
    {
      "cell_type": "code",
      "execution_count": null,
      "metadata": {
        "id": "UAXIjjccYGm9"
      },
      "outputs": [],
      "source": []
    }
  ],
  "metadata": {
    "colab": {
      "provenance": []
    },
    "kernelspec": {
      "display_name": "Python 3",
      "name": "python3"
    },
    "language_info": {
      "codemirror_mode": {
        "name": "ipython",
        "version": 3
      },
      "file_extension": ".py",
      "mimetype": "text/x-python",
      "name": "python",
      "nbconvert_exporter": "python",
      "pygments_lexer": "ipython3",
      "version": "3.13.5"
    }
  },
  "nbformat": 4,
  "nbformat_minor": 0
}
